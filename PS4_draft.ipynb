{
 "cells": [
  {
   "cell_type": "markdown",
   "metadata": {},
   "source": [
    "<h1 align=center><font size=5>ECON-UB. 251</font></h1>\n",
    "<h1 align=center><font size=5>Econometrics I</font></h1>\n",
    "<h1 align=center><font size=5>Problem Set 4</font></h1>"
   ]
  },
  {
   "cell_type": "markdown",
   "metadata": {},
   "source": [
    "<div class=\"alert alert-danger alertdanger\" style=\"margin-top: 20px\">\n",
    "    <p><b>Name</b>:  </p>\n",
    "    <p><b>NetID</b>:  </p>"
   ]
  },
  {
   "cell_type": "markdown",
   "metadata": {},
   "source": [
    "<h4>Instructions</h4>\n",
    "<p>Problem Set 4 is due on Sunday, Dec 8, at 6pm. Please submit your Jupyter Notebook file on NYU Classes Assignment. Make sure you include your name and Net ID in the title of your notebook.</p>\n",
    "<p>You are required to type your answer in the column below each of the question. Remember to execute your code (Shift+Enter). You can insert cell and use #comments if necessary. "
   ]
  },
  {
   "cell_type": "markdown",
   "metadata": {},
   "source": [
    "<div class=\"alert alert-danger alertdanger\" style=\"margin-top: 20px\">\n",
    "<h1>Question 1</h1>"
   ]
  },
  {
   "cell_type": "markdown",
   "metadata": {},
   "source": [
    "<font size=2>Load data via link below and store in the dataframe.</font>"
   ]
  },
  {
   "cell_type": "code",
   "execution_count": 2,
   "metadata": {},
   "outputs": [],
   "source": [
    "pip install linearmodels\n",
    "import pandas as pd\n",
    "df = pd.read_csv('https://github.com/MariaMeng22/econometric-001/raw/master/voucher.csv')"
   ]
  },
  {
   "cell_type": "markdown",
   "metadata": {},
   "source": [
    "Consider the following (structual model):\n",
    "$$ mnce = \\beta_0 + \\beta_1 choiceyrs + \\beta_2 black + \\beta_3 hispanic + \\beta_4 female + \\epsilon $$\n",
    "$mnce$ is the outcome of interest, the student's percentile score on a math test administered in 1994;  \n",
    "$choiceyrs$ indicates the number of years from 1991 to 1994 that a student attended a choice school, ranges from 0 to 4;  \n",
    "$black = 1$ if African-American;  \n",
    "$hispanic = 1$ if Hispanic;  \n",
    "$female = 1$ if female  \n",
    "\n",
    "(1) Estimate the model above and interpret the coefficient on attending a choice school($choiceyrs$).\n",
    "\n",
    "\n",
    "The concern is that $choiceyrs$ is not exogenous. Rouse(1998) uses $selectyrs$ as an instrumental variable for $choiceyrs$.The variable $selectyrs$ is the number of years a student who was selected for a voucher. If the student applied for the program in 1990 and received a voucher then $selectyrs = 4$; if he or she applied in 1991 and received a voucher then $selectyrs = 3$; and so on. Now we follow Rouse's method to construct the instrument.   \n",
    "\n",
    "Use the `statsmodels` package to answer (2) - (4)  \n",
    "(2) Estimate the \"first stage\" equation, that is, regress the endogenous variable on the explanatory variables and instrument\n",
    "$$choiceyrs = \\alpha_0 + \\alpha_1 black + \\alpha_2 hispanic + \\alpha_3 female + \\alpha_4selectyrs + v$$\n",
    "and print out the results summary. Add a new column $choiceyrshat$ to store fitted values for $choiceyrs$ and then print out the description. Is the relationship between the endogenous and IV strong? Positive or negative?  \n",
    "\n",
    "(3) What must we assume for $selectyrs$ to serve as valid instruments? Does your estimate from (2) support $selectyrs$?  \n",
    "\n",
    "(4) Estimate the \"second stage equation\" by replacing the endogenous variable with the fitted values, $\\widehat{choiceyrs}$ from first stage (which in dataset is $choiceyrshat$)\n",
    "$$ mnce = \\beta_0 + \\beta_1 \\widehat{choiceyrs} + \\beta_2 black + \\beta_3 hispanic + \\beta_4 female + \\epsilon $$\n",
    "print out the results summary. Compare the coefficient values of $\\widehat{choiceyrs}$ to what you got in (1) and comment.    \n",
    "\n",
    "(5) Now we introduce the `linearmodels` package to replicate the 2SLS estimation above by using the command `IV2SLS` and using $selectyrs$ as the IV for $choiceyrs$. Compare the value of point estimates and the standard errors to what you got in (4). (The standard errors from (4) are not correct,  the standard errors from (5) are correct.) \n",
    "\n",
    "\n",
    "Here is a link for you to learn how to conduct IV estimation with this package. https://bashtage.github.io/linearmodels/doc/iv/examples/basic-examples.html"
   ]
  },
  {
   "cell_type": "code",
   "execution_count": null,
   "metadata": {},
   "outputs": [],
   "source": []
  },
  {
   "cell_type": "code",
   "execution_count": null,
   "metadata": {},
   "outputs": [],
   "source": []
  },
  {
   "cell_type": "code",
   "execution_count": null,
   "metadata": {},
   "outputs": [],
   "source": []
  },
  {
   "cell_type": "markdown",
   "metadata": {},
   "source": [
    "<div class=\"alert alert-danger alertdanger\" style=\"margin-top: 20px\">\n",
    "<h1>Question 2</h1>"
   ]
  },
  {
   "cell_type": "markdown",
   "metadata": {},
   "source": [
    "There is a survey of House of Representatives elections in 1988 and 1990. Only winners from 1988 who are also running in 1990 appear in the sample; these are the incumbents. For the years 1988 and 1990, an unobserved effects model explaining the share of the incumbent’s vote in terms of expenditures by both candidates is\n",
    "$$vote_{it} = \\beta_0 + \\delta_0 d90_t + \\beta_1 log(inexp_{it}) + \\beta_2 log(chexp_{it}) + \\beta_3 incshr_{it} + a_i + u_{it}, t = 1,2,$$\n",
    "where  \n",
    "$d90_t$ is a dummy variable for 1990;  \n",
    "$inexp_{it}$ is the incumbent $i$’s spending in year $i$, in the dataset, they are $inexp88$ and $inexp90$ in 1988 and 1990 respectively;  \n",
    "$chexp_{it}$ is the challenger $i$'s spending in year $i$, in the dataset, they are $chexp88$ and $chexp90$ in 1988 and 1990 respectively;   \n",
    "$incshr_{it}$ is the incumbent $i$’s share of total campaign spending in year $i$ (in percentage form), eg. \n",
    "$incshr90 = 100 * {inexp90 \\over {inexp90+chexp90}}$;  \n",
    "$a_i$ is the unobserved effect and contains characteristics of the incumbent $i$ — such as “quality” — as well as things about the district that are constant. The incumbent $i$’s gender and party are constant over time, so these are subsumed in $a_i$.  "
   ]
  },
  {
   "cell_type": "markdown",
   "metadata": {},
   "source": [
    "Before we want to study further of the model, let's firstly use the dataset below the construct the model."
   ]
  },
  {
   "cell_type": "code",
   "execution_count": null,
   "metadata": {},
   "outputs": [],
   "source": [
    "df = pd.read_csv('https://github.com/MariaMeng22/econometric-001/raw/master/vote.csv')"
   ]
  },
  {
   "cell_type": "markdown",
   "metadata": {},
   "source": [
    "(1) Generate $log(inexp_{it}$) and $log(chexp_{it})$ from $inexp_{it}$ and $chexp_{it}$. For example, in the dataset, get $linexp90$ by taking the logarithm of $inexp90$.\n",
    "\n",
    "(2) Generate $incshr_{it}$ accoding to its definition, name it to $incshr88$ and $incshr90$ for 1988 and 1990 respectively.  "
   ]
  },
  {
   "cell_type": "code",
   "execution_count": null,
   "metadata": {},
   "outputs": [],
   "source": []
  },
  {
   "cell_type": "code",
   "execution_count": null,
   "metadata": {},
   "outputs": [],
   "source": []
  },
  {
   "cell_type": "markdown",
   "metadata": {},
   "source": [
    "According to the model we constructed, we are interested in the effect of campaign expenditures on election outcomes.   \n",
    "\n",
    "(3) Difference the given equation across the two years and estimate the differenced equation by OLS. Which variables are individually significant at the 5% level (you can name the differenced variable as you want)?  \n",
    "\n",
    "(4) In the equation from part (1), test for joint significance of $\\Delta log(inexp)$ and $\\Delta log(chexp)$. Report the p-value.  \n",
    "\n",
    "(5) Reestimate the equation from part (1) using $\\Delta incshr$ as the only independent variable. Interpret the coefficient on $\\Delta incshr$. \n",
    "\n",
    "(6) Redo part (3), but now use only the pairs that have repeat challengers. (This allows us to control for characteristics of the challengers as well, which would be in $a_i$)"
   ]
  },
  {
   "cell_type": "code",
   "execution_count": null,
   "metadata": {},
   "outputs": [],
   "source": []
  },
  {
   "cell_type": "code",
   "execution_count": null,
   "metadata": {},
   "outputs": [],
   "source": []
  },
  {
   "cell_type": "code",
   "execution_count": null,
   "metadata": {},
   "outputs": [],
   "source": []
  }
 ],
 "metadata": {
  "kernelspec": {
   "display_name": "Python 3",
   "language": "python",
   "name": "python3"
  },
  "language_info": {
   "codemirror_mode": {
    "name": "ipython",
    "version": 3
   },
   "file_extension": ".py",
   "mimetype": "text/x-python",
   "name": "python",
   "nbconvert_exporter": "python",
   "pygments_lexer": "ipython3",
   "version": "3.7.4"
  }
 },
 "nbformat": 4,
 "nbformat_minor": 2
}
